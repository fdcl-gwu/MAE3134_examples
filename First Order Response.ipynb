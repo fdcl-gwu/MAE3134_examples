{
 "cells": [
  {
   "cell_type": "markdown",
   "metadata": {},
   "source": [
    "## First order response specifications\n",
    "\n",
    "Consider the general first oder system:\n",
    "\n",
    "$$ G(s) = \\frac{C(s)}{R(s)} = \\frac{a}{s+a} $$ \n",
    "\n",
    "subject to the unit step input:\n",
    "\n",
    "$$ R(s) = \\frac{1}{s} $$\n",
    "\n",
    "The laplace of the output response is simply:\n",
    "\n",
    "$$ C(s) = R(s) G(s)  = \\frac{a}{s(s+a)} $$\n",
    "\n",
    "We can use partial fraction expansion and the inverse Laplace transform to find:\n",
    "\n",
    "$$ c(t) = 1 - e^{-a t} $$\n",
    "\n",
    "## Response specifications\n",
    "\n",
    "### Rise Time\n",
    "\n",
    "Time for response to go from 10% to 90% of the final value\n",
    "\n",
    "$$ T_R = \\frac{2.31}{a} - \\frac{0.11}{a} = \\frac{2.2}{a} $$\n",
    "\n",
    "### Settling time\n",
    "\n",
    "Time for system to remain within 2% ( or 5%) of the final value\n",
    "\n",
    "$$ T_S = \\frac{4}{a} $$\n",
    "\n",
    "## Experimentally determine a transfer function\n",
    "\n",
    "Suppose we have a complicated/unknown system that we wish to analyze. \n",
    "It's too expensive/complicated to model it directly, so we'll analyze it's response to a unit step input. \n",
    "\n",
    "We'll assume that system is modelled as a first order:\n",
    "\n",
    "$$ G(s) = \\frac{K}{s+a} $$\n",
    "\n",
    "The output response to a unit step input will then be:\n",
    "\n",
    "$$ C(s) = R(s) G(s) = \\frac{K/a}{s} - \\frac{K/a}{s+a} $$\n",
    "\n",
    "We can determine the time constant, $ a$ by finding the time to reach $ \\approx 63% $ of the final value.\n",
    "\n",
    "$$ a = \\frac{1}{t_c} $$\n",
    "\n",
    "Using the steady state value we can determine $K$\n",
    "\n",
    "$$ ss = \\frac{K}{a} $$"
   ]
  },
  {
   "cell_type": "code",
   "execution_count": 1,
   "metadata": {
    "collapsed": false,
    "scrolled": false
   },
   "outputs": [
    {
     "name": "stdout",
     "output_type": "stream",
     "text": [
      "Rise time - 0.02 sec\n",
      "Settling time - 0.04 sec\n"
     ]
    },
    {
     "data": {
      "image/png": "[encoded data removed]",
      "text/plain": [
       "<matplotlib.figure.Figure at 0x1168455c0>"
      ]
     },
     "metadata": {},
     "output_type": "display_data"
    }
   ],
   "source": [
    "import numpy as np\n",
    "from scipy import signal\n",
    "import matplotlib.pylab as plt\n",
    "\n",
    "K = 100\n",
    "a = 100\n",
    "\n",
    "Tr = 2.2 /a\n",
    "Ts = 4.0 / a\n",
    "\n",
    "print(\"Rise time - %3.2f sec\" % Tr)\n",
    "print(\"Settling time - %3.2f sec\" % Ts)\n",
    "\n",
    "sys = signal.TransferFunction(K, [1,a])\n",
    "t,resp = signal.step(sys)\n",
    "plt.plot(t,resp)\n",
    "plt.xlabel('Time')\n",
    "plt.ylabel('Response')\n",
    "plt.grid(True)\n",
    "plt.show()"
   ]
  }
 ],
 "metadata": {
  "kernelspec": {
   "display_name": "Python 3",
   "language": "python",
   "name": "python3"
  },
  "language_info": {
   "codemirror_mode": {
    "name": "ipython",
    "version": 3
   },
   "file_extension": ".py",
   "mimetype": "text/x-python",
   "name": "python",
   "nbconvert_exporter": "python",
   "pygments_lexer": "ipython3",
   "version": "3.6.0"
  }
 },
 "nbformat": 4,
 "nbformat_minor": 2
}
