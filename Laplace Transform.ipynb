{
 "cells": [
  {
   "cell_type": "markdown",
   "metadata": {},
   "source": [
    "## Using the Laplace Transform to solvle a differential equation\n",
    "\n",
    "Consider solving\n",
    "\n",
    "$$\n",
    "3 \\ddot{x} + 30 \\dot{x} + 63 x = 4 \\dot{g(t)} + 6 g(t)\n",
    "$$\n",
    "\n",
    "where\n",
    "\n",
    "$$ \n",
    "g(t) = 5 t^2 e^{-t}\n",
    "$$\n",
    "\n",
    "and initial conditions are\n",
    "\n",
    "$$\n",
    "x(0) = 4, \\dot{x}(0) = 7\n",
    "$$"
   ]
  }
 ],
 "metadata": {
  "kernelspec": {
   "display_name": "Python 3",
   "language": "python",
   "name": "python3"
  },
  "language_info": {
   "codemirror_mode": {
    "name": "ipython",
    "version": 3
   },
   "file_extension": ".py",
   "mimetype": "text/x-python",
   "name": "python",
   "nbconvert_exporter": "python",
   "pygments_lexer": "ipython3",
   "version": "3.5.3"
  }
 },
 "nbformat": 4,
 "nbformat_minor": 2
}
