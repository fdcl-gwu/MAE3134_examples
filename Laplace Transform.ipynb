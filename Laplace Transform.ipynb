{
 "cells": [
  {
   "cell_type": "markdown",
   "metadata": {},
   "source": [
    "## Using the Laplace Transform to solvle a differential equation\n",
    "\n",
    "Consider solving\n",
    "\n",
    "$$\n",
    "3 \\ddot{x} + 30 \\dot{x} + 63 x = 4 \\dot{g(t)} + 6 g(t)\n",
    "$$\n",
    "\n",
    "where\n",
    "\n",
    "$$ \n",
    "g(t) = 5 e^{-t}\n",
    "$$\n",
    "\n",
    "and initial conditions are\n",
    "\n",
    "$$\n",
    "x(0) = 4, \\dot{x}(0) = 7\n",
    "$$"
   ]
  },
  {
   "cell_type": "code",
   "execution_count": 2,
   "metadata": {
    "collapsed": true
   },
   "outputs": [],
   "source": [
    "import numpy as np\n",
    "import sympy\n",
    "sympy.init_printing()"
   ]
  },
  {
   "cell_type": "code",
   "execution_count": 3,
   "metadata": {
    "collapsed": true
   },
   "outputs": [],
   "source": [
    "from sympy.abc import a, t, x, s, g, G, X\n",
    "x, g, X = sympy.symbols('x, g, X', cls=sympy.Function)\n"
   ]
  },
  {
   "cell_type": "code",
   "execution_count": 4,
   "metadata": {
    "collapsed": true
   },
   "outputs": [],
   "source": [
    "x0 = 4\n",
    "xd0 = 7"
   ]
  },
  {
   "cell_type": "code",
   "execution_count": 5,
   "metadata": {},
   "outputs": [
    {
     "data": {
      "image/png": "[encoded data removed]",
      "text/latex": [
       "$$e^{- t}$$"
      ],
      "text/plain": [
       " -t\n",
       "ℯ  "
      ]
     },
     "execution_count": 5,
     "metadata": {},
     "output_type": "execute_result"
    }
   ],
   "source": [
    "g = sympy.exp(-t)\n",
    "g"
   ]
  },
  {
   "cell_type": "markdown",
   "metadata": {},
   "source": [
    "### Lets try the Laplace Transform on the input and check that it works"
   ]
  },
  {
   "cell_type": "code",
   "execution_count": 6,
   "metadata": {},
   "outputs": [
    {
     "data": {
      "image/png": "[encoded data removed]",
      "text/latex": [
       "$$\\frac{1}{s + 1}$$"
      ],
      "text/plain": [
       "  1  \n",
       "─────\n",
       "s + 1"
      ]
     },
     "execution_count": 6,
     "metadata": {},
     "output_type": "execute_result"
    }
   ],
   "source": [
    "sympy.laplace_transform(g, t, s)[0]"
   ]
  },
  {
   "cell_type": "markdown",
   "metadata": {},
   "source": [
    "### Now lets define the EOMs\n",
    "\n",
    "sympy doesn't handle undefined functions in the Laplace transform yet, so we will input the EOMS in the Laplace domain ourselves.\n",
    "\n",
    "https://github.com/sympy/sympy/issues/7219#issuecomment-154768904"
   ]
  },
  {
   "cell_type": "code",
   "execution_count": 7,
   "metadata": {},
   "outputs": [
    {
     "data": {
      "image/png": "[encoded data removed]",
      "text/latex": [
       "$$3 s^{2} X{\\left (s \\right )} + 30 s X{\\left (s \\right )} - 12 s + 63 X{\\left (s \\right )} - 141 = \\frac{2}{s + 1}$$"
      ],
      "text/plain": [
       "   2                                             2  \n",
       "3⋅s ⋅X(s) + 30⋅s⋅X(s) - 12⋅s + 63⋅X(s) - 141 = ─────\n",
       "                                               s + 1"
      ]
     },
     "execution_count": 7,
     "metadata": {},
     "output_type": "execute_result"
    }
   ],
   "source": [
    "eoms = sympy.Eq(3*(s**2 * X(s) - s * x0 - xd0) +\n",
    "               30 * (s * X(s) - x0) +\n",
    "               63 * X(s), \n",
    "               sympy.laplace_transform(4 * sympy.diff(g, t) + 6 * g, t, s)[0])\n",
    "eoms"
   ]
  },
  {
   "cell_type": "markdown",
   "metadata": {},
   "source": [
    "### Solve for $ X(s)$"
   ]
  },
  {
   "cell_type": "code",
   "execution_count": 8,
   "metadata": {
    "scrolled": true
   },
   "outputs": [
    {
     "data": {
      "image/png": "[encoded data removed]",
      "text/latex": [
       "$$\\frac{12 s^{2} + 153 s + 143}{3 \\left(s^{3} + 11 s^{2} + 31 s + 21\\right)}$$"
      ],
      "text/plain": [
       "       2                  \n",
       "   12⋅s  + 153⋅s + 143    \n",
       "──────────────────────────\n",
       "  ⎛ 3       2            ⎞\n",
       "3⋅⎝s  + 11⋅s  + 31⋅s + 21⎠"
      ]
     },
     "execution_count": 8,
     "metadata": {},
     "output_type": "execute_result"
    }
   ],
   "source": [
    "XofS = sympy.solve(eoms, X(s))[0]\n",
    "sympy.simplify(XofS)"
   ]
  },
  {
   "cell_type": "markdown",
   "metadata": {},
   "source": [
    "### Now just inverse Laplace to find the solution"
   ]
  },
  {
   "cell_type": "code",
   "execution_count": 9,
   "metadata": {
    "scrolled": true
   },
   "outputs": [
    {
     "data": {
      "image/png": "[encoded data removed]",
      "text/latex": [
       "$$\\frac{\\theta\\left(t\\right)}{18} \\left(e^{6 t} + 156 e^{4 t} - 85\\right) e^{- 7 t}$$"
      ],
      "text/plain": [
       "⎛ 6⋅t        4⋅t     ⎞  -7⋅t             \n",
       "⎝ℯ    + 156⋅ℯ    - 85⎠⋅ℯ    ⋅Heaviside(t)\n",
       "─────────────────────────────────────────\n",
       "                    18                   "
      ]
     },
     "execution_count": 9,
     "metadata": {},
     "output_type": "execute_result"
    }
   ],
   "source": [
    "sol = sympy.inverse_laplace_transform(XofS, s, t)\n",
    "sol"
   ]
  },
  {
   "cell_type": "markdown",
   "metadata": {},
   "source": [
    "### Note\n",
    "\n",
    "The $ \\theta (t) $ is simply sympy's notation for a step function. This answer is only valid for $ t > 0$\n",
    "\n",
    "We can generate a plot or evaluate"
   ]
  },
  {
   "cell_type": "code",
   "execution_count": 10,
   "metadata": {},
   "outputs": [
    {
     "data": {
      "image/png": "[encoded data removed]",
      "text/plain": [
       "<matplotlib.figure.Figure at 0x7f6189cbbeb8>"
      ]
     },
     "metadata": {},
     "output_type": "display_data"
    },
    {
     "data": {
      "text/plain": [
       "<sympy.plotting.plot.Plot at 0x7f6189cbbc18>"
      ]
     },
     "execution_count": 10,
     "metadata": {},
     "output_type": "execute_result"
    }
   ],
   "source": [
    "sympy.plot(sol, (t, 0.1, 2))"
   ]
  },
  {
   "cell_type": "code",
   "execution_count": 11,
   "metadata": {},
   "outputs": [
    {
     "data": {
      "image/png": "[encoded data removed]",
      "text/latex": [
       "$$0.000376981542279453$$"
      ],
      "text/plain": [
       "0.000376981542279453"
      ]
     },
     "execution_count": 11,
     "metadata": {},
     "output_type": "execute_result"
    }
   ],
   "source": [
    "sol.evalf(subs={t: 5})"
   ]
  },
  {
   "cell_type": "markdown",
   "metadata": {},
   "source": [
    "##  A more complicated transformoration \n",
    "\n",
    "$$\n",
    "f(t) = 5 t^2 \\cos (3 t + \\frac{\\pi}{4})\n",
    "$$"
   ]
  },
  {
   "cell_type": "code",
   "execution_count": 21,
   "metadata": {},
   "outputs": [
    {
     "data": {
      "image/png": "[encoded data removed]",
      "text/latex": [
       "$$5 t^{2} \\cos{\\left (3 t + \\frac{\\pi}{4} \\right )}$$"
      ],
      "text/plain": [
       "   2    ⎛      π⎞\n",
       "5⋅t ⋅cos⎜3⋅t + ─⎟\n",
       "        ⎝      4⎠"
      ]
     },
     "execution_count": 21,
     "metadata": {},
     "output_type": "execute_result"
    }
   ],
   "source": [
    "t = sympy.symbols('t', positive=True)\n",
    "s = sympy.symbols('s', complex=True)\n",
    "f = 5 * t**2 * sympy.cos(3*t + sympy.pi/4)\n",
    "f"
   ]
  },
  {
   "cell_type": "code",
   "execution_count": 31,
   "metadata": {},
   "outputs": [
    {
     "data": {
      "image/png": "[encoded data removed]",
      "text/latex": [
       "$$\\frac{10 s \\left(s^{2} - 3\\right)}{\\left(s^{2} + 1\\right)^{3}}$$"
      ],
      "text/plain": [
       "     ⎛ 2    ⎞\n",
       "10⋅s⋅⎝s  - 3⎠\n",
       "─────────────\n",
       "          3  \n",
       "  ⎛ 2    ⎞   \n",
       "  ⎝s  + 1⎠   "
      ]
     },
     "execution_count": 31,
     "metadata": {},
     "output_type": "execute_result"
    }
   ],
   "source": [
    "F = sympy.laplace_transform(5*t**2*sympy.cos(t), t, s, noconds=True)\n",
    "F"
   ]
  },
  {
   "cell_type": "markdown",
   "metadata": {},
   "source": [
    "Sympy has difficulty with this one. There are many related issues discussing these problems\n",
    "\n",
    "https://github.com/sympy/sympy/issues/13491\n",
    "\n",
    "Basically, Sympy is trying to do a numerical integral and having a hard time.\n"
   ]
  }
 ],
 "metadata": {
  "kernelspec": {
   "display_name": "Python 3",
   "language": "python",
   "name": "python3"
  },
  "language_info": {
   "codemirror_mode": {
    "name": "ipython",
    "version": 3
   },
   "file_extension": ".py",
   "mimetype": "text/x-python",
   "name": "python",
   "nbconvert_exporter": "python",
   "pygments_lexer": "ipython3",
   "version": "3.6.4"
  }
 },
 "nbformat": 4,
 "nbformat_minor": 2
}
