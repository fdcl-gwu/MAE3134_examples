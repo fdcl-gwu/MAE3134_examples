{
 "cells": [
  {
   "cell_type": "markdown",
   "metadata": {},
   "source": [
    "## Linearity\n",
    "\n",
    "We consider a second order system of the form:\n",
    "\n",
    "\\begin{align}\n",
    "    G(s) = \\frac{1}{ms^2 + cs + k}\n",
    "\\end{align}\n",
    "\n",
    "with \n",
    "\n",
    "\\begin{align}\n",
    "    m = 1 kg, \\quad c = 4 \\frac{Ns}{m}, \\quad k = 5 \\frac{N}{m}\n",
    "\\end{align}\n",
    "\n",
    "Lets see if this idea of linear systems actually applies!\n"
   ]
  },
  {
   "cell_type": "code",
   "execution_count": 2,
   "metadata": {
    "collapsed": true
   },
   "outputs": [],
   "source": [
    "%matplotlib inline\n",
    "import numpy as np\n",
    "from scipy import signal\n",
    "import matplotlib.pyplot as plt\n"
   ]
  },
  {
   "cell_type": "markdown",
   "metadata": {},
   "source": [
    "### Initial position and intial velocity cases\n",
    "\n",
    "\\begin{align}\n",
    "    f(t) = 0, \\quad x(0) = 1 m, \\quad \\dot{x}(0) = 0 \\\\\n",
    "    f(t) = 0, \\quad x(0) = 0, \\quad \\dot{x}(0) = 1 \\frac{m}{sec}\n",
    "\\end{align}\n",
    "\n",
    "We analytically found these solutions so lets write a function for it."
   ]
  },
  {
   "cell_type": "code",
   "execution_count": 3,
   "metadata": {
    "collapsed": true
   },
   "outputs": [],
   "source": [
    "def x1(t,x0):\n",
    "    x1 = x0*(-np.exp(-2*t)*np.cos(t) + 2*np.exp(-2*t)*np.sin(t))\n",
    "    return x1\n",
    "\n",
    "def x2(t, xd0):\n",
    "    x2 = xd0*(np.exp(-2*t)*np.sin(t))\n",
    "    return x2"
   ]
  },
  {
   "cell_type": "markdown",
   "metadata": {},
   "source": [
    "### Impulse response\n",
    "\n",
    "We also know the response to an impulse!"
   ]
  },
  {
   "cell_type": "code",
   "execution_count": 4,
   "metadata": {
    "collapsed": true
   },
   "outputs": [],
   "source": [
    "def x3(t,f0):\n",
    "    x3 = f0*(np.exp(-2*t)*np.sin(t))\n",
    "    return x3"
   ]
  },
  {
   "cell_type": "markdown",
   "metadata": {},
   "source": [
    "## Numerical vs. Analytical responses\n",
    "\n",
    "Now we compare our analytical solution to a numerical one"
   ]
  },
  {
   "cell_type": "code",
   "execution_count": null,
   "metadata": {
    "collapsed": true
   },
   "outputs": [],
   "source": [
    "def pltresp():\n",
    "    num = 1\n",
    "    den = [1 ]"
   ]
  }
 ],
 "metadata": {
  "kernelspec": {
   "display_name": "Python 3",
   "language": "python",
   "name": "python3"
  },
  "language_info": {
   "codemirror_mode": {
    "name": "ipython",
    "version": 3
   },
   "file_extension": ".py",
   "mimetype": "text/x-python",
   "name": "python",
   "nbconvert_exporter": "python",
   "pygments_lexer": "ipython3",
   "version": "3.6.0"
  }
 },
 "nbformat": 4,
 "nbformat_minor": 2
}
