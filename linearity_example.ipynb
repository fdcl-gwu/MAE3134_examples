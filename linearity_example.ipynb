{
 "cells": [
  {
   "cell_type": "markdown",
   "metadata": {},
   "source": [
    "## Linearity\n",
    "\n",
    "We consider a second order system of the form:\n",
    "\n",
    "\\begin{align}\n",
    "    G(s) = \\frac{1}{ms^2 + cs + k}\n",
    "\\end{align}\n",
    "\n",
    "with \n",
    "\n",
    "\\begin{align}\n",
    "    m = 1 kg, \\quad c = 4 \\frac{Ns}{m}, \\quad k = 5 \\frac{N}{m}\n",
    "\\end{align}\n",
    "\n",
    "Lets see if this idea of linear systems actually applies!\n"
   ]
  },
  {
   "cell_type": "code",
   "execution_count": 21,
   "metadata": {
    "collapsed": true
   },
   "outputs": [],
   "source": [
    "%matplotlib inline\n",
    "import numpy as np\n",
    "from scipy import signal\n",
    "import matplotlib.pyplot as plt\n",
    "from ipywidgets import interact\n",
    "import ipywidgets as widgets"
   ]
  },
  {
   "cell_type": "markdown",
   "metadata": {},
   "source": [
    "### Initial position and intial velocity cases\n",
    "\n",
    "\\begin{align}\n",
    "    f(t) = 0, \\quad x(0) = 1 m, \\quad \\dot{x}(0) = 0 \\\\\n",
    "    f(t) = 0, \\quad x(0) = 0, \\quad \\dot{x}(0) = 1 \\frac{m}{sec}\n",
    "\\end{align}\n",
    "\n",
    "We analytically found these solutions so lets write a function for it."
   ]
  },
  {
   "cell_type": "code",
   "execution_count": 30,
   "metadata": {
    "collapsed": true
   },
   "outputs": [],
   "source": [
    "def x1(t,x0):\n",
    "    x1 = x0*(np.exp(-2*t)*np.cos(t) + 2*np.exp(-2*t)*np.sin(t))\n",
    "    return x1\n",
    "\n",
    "def x2(t, xd0):\n",
    "    x2 = xd0*(np.exp(-2*t)*np.sin(t))\n",
    "    return x2"
   ]
  },
  {
   "cell_type": "markdown",
   "metadata": {},
   "source": [
    "### Impulse response\n",
    "\n",
    "We also know the response to an impulse!"
   ]
  },
  {
   "cell_type": "code",
   "execution_count": 3,
   "metadata": {
    "collapsed": true
   },
   "outputs": [],
   "source": [
    "def x3(t,f0):\n",
    "    x3 = f0*(np.exp(-2*t)*np.sin(t))\n",
    "    return x3"
   ]
  },
  {
   "cell_type": "markdown",
   "metadata": {},
   "source": [
    "## Numerical vs. Analytical responses\n",
    "\n",
    "Now we compare our analytical solution to a numerical one"
   ]
  },
  {
   "cell_type": "code",
   "execution_count": 77,
   "metadata": {
    "collapsed": true
   },
   "outputs": [],
   "source": [
    "def pltresp(x0, xd0):\n",
    "    num = 1\n",
    "    den = [1, 4, 5]\n",
    "    \n",
    "    time = np.linspace(0,5,100)\n",
    "    \n",
    "    sys = signal.TransferFunction(num,den)\n",
    "    t, resp = signal.impulse2(sys,X0=(xd0, x0), T=time)\n",
    "    \n",
    "    # compute our analytical approximation\n",
    "    x1resp = x1(time,x0)\n",
    "    x2resp = x2(time,xd0)\n",
    "    x3resp = x3(time,1)\n",
    "    \n",
    "    fig, ax = plt.subplots(1,1,figsize=(16,8))\n",
    "    ax.plot(t,resp, label='Numerical')\n",
    "    ax.plot(time,x1resp+x2resp+x3resp,label='Analytical')\n",
    "    ax.set_title('Response')\n",
    "    ax.set_xlabel('Time (sec)')\n",
    "    ax.set_ylabel('Response')\n",
    "    ax.grid(True)\n",
    "    plt.legend()\n",
    "    \n",
    "    return 0"
   ]
  },
  {
   "cell_type": "code",
   "execution_count": 78,
   "metadata": {
    "collapsed": false,
    "scrolled": false
   },
   "outputs": [
    {
     "data": {
      "text/plain": [
       "0"
      ]
     },
     "metadata": {},
     "output_type": "display_data"
    },
    {
     "data": {
      "image/png": "[encoded data removed]",
      "text/plain": [
       "<matplotlib.figure.Figure at 0x7f6bc92b2470>"
      ]
     },
     "metadata": {},
     "output_type": "display_data"
    }
   ],
   "source": [
    "_ = interact(pltresp, x0=(0,5,0.1), xd0=(0.0,5,0.1))"
   ]
  }
 ],
 "metadata": {
  "kernelspec": {
   "display_name": "Python 3",
   "language": "python",
   "name": "python3"
  },
  "language_info": {
   "codemirror_mode": {
    "name": "ipython",
    "version": 3
   },
   "file_extension": ".py",
   "mimetype": "text/x-python",
   "name": "python",
   "nbconvert_exporter": "python",
   "pygments_lexer": "ipython3",
   "version": "3.6.0"
  },
  "widgets": {
   "state": {
    "b5e9d71920e74742a684d70ec4b683a3": {
     "views": [
      {
       "cell_index": 8
      }
     ]
    }
   },
   "version": "1.2.0"
  }
 },
 "nbformat": 4,
 "nbformat_minor": 2
}
