{
 "cells": [
  {
   "cell_type": "markdown",
   "metadata": {},
   "source": [
    "## Partial Fraction Expansion using Sympy\n",
    "\n",
    "This is an example for using partial fraction expansion within Python\n",
    "\n",
    "This only covers a tiny fraction of what is possible. \n",
    "\n",
    "As always it's a good idea to look at the documentation\n",
    "\n",
    "http://docs.sympy.org/latest/index.html"
   ]
  },
  {
   "cell_type": "code",
   "execution_count": 1,
   "metadata": {
    "collapsed": true
   },
   "outputs": [],
   "source": [
    "import sympy \n",
    "import numpy as np\n",
    "sympy.init_printing()"
   ]
  },
  {
   "cell_type": "markdown",
   "metadata": {},
   "source": [
    "Lets try to complete the examples in section 4-3 using Sympy instead of Matlab\n",
    "\n",
    "Consider the transfer function:\n",
    "\n",
    "$$\n",
    "\\frac{Y(s)}{U(s)} = \\frac{s^4 + 8 s^3 + 16 s^2 + 9s + 6}{s^3 + 6s^2+11s +6}\n",
    "$$\n",
    "\n",
    "We want to use partial fraction expansion to simplify this expression\n",
    "\n",
    "First we need to define the function in Python"
   ]
  },
  {
   "cell_type": "code",
   "execution_count": 5,
   "metadata": {
    "collapsed": false
   },
   "outputs": [
    {
     "data": {
      "image/png": "[encoded data removed]",
      "text/latex": [
       "$$\\frac{s^{4} + 8 s^{3} + 16 s^{2} + 9 s + 6}{s^{3} + 6 s^{2} + 11 s + 6}$$"
      ],
      "text/plain": [
       " 4      3       2          \n",
       "s  + 8⋅s  + 16⋅s  + 9⋅s + 6\n",
       "───────────────────────────\n",
       "     3      2              \n",
       "    s  + 6⋅s  + 11⋅s + 6   "
      ]
     },
     "execution_count": 5,
     "metadata": {},
     "output_type": "execute_result"
    }
   ],
   "source": [
    "s = sympy.symbols('s')\n",
    "\n",
    "G = (s**4 + 8*s**3+16*s**2+9*s+6) / (s**3 + 6*s**2 + 11*s +6)\n",
    "G"
   ]
  },
  {
   "cell_type": "markdown",
   "metadata": {},
   "source": [
    "Now we can expand using partial fractions"
   ]
  },
  {
   "cell_type": "code",
   "execution_count": 6,
   "metadata": {
    "collapsed": false
   },
   "outputs": [
    {
     "data": {
      "image/png": "[encoded data removed]",
      "text/latex": [
       "$$s + 2 - \\frac{6}{s + 3} - \\frac{4}{s + 2} + \\frac{3}{s + 1}$$"
      ],
      "text/plain": [
       "          6       4       3  \n",
       "s + 2 - ───── - ───── + ─────\n",
       "        s + 3   s + 2   s + 1"
      ]
     },
     "execution_count": 6,
     "metadata": {},
     "output_type": "execute_result"
    }
   ],
   "source": [
    "sympy.apart(G)"
   ]
  },
  {
   "cell_type": "markdown",
   "metadata": {},
   "source": [
    "### Complex roots\n",
    "\n",
    "Here's another example with complex roots to see what happens\n",
    "\n",
    "$$\n",
    "Y(s) = U(s) G(s) = \\frac{1}{s} \\frac{2s+10}{s^2 +2s+10}\n",
    "$$"
   ]
  },
  {
   "cell_type": "code",
   "execution_count": 10,
   "metadata": {
    "collapsed": false
   },
   "outputs": [
    {
     "data": {
      "image/png": "[encoded data removed]",
      "text/latex": [
       "$$\\frac{2 s + 10}{s \\left(s^{2} + 2 s + 10\\right)}$$"
      ],
      "text/plain": [
       "     2⋅s + 10    \n",
       "─────────────────\n",
       "  ⎛ 2           ⎞\n",
       "s⋅⎝s  + 2⋅s + 10⎠"
      ]
     },
     "execution_count": 10,
     "metadata": {},
     "output_type": "execute_result"
    }
   ],
   "source": [
    "F = 1 / s * (2*s+10)/(s**2+2*s+10)\n",
    "F"
   ]
  },
  {
   "cell_type": "code",
   "execution_count": 13,
   "metadata": {
    "collapsed": false
   },
   "outputs": [
    {
     "data": {
      "image/png": "[encoded data removed]",
      "text/latex": [
       "$$\\frac{\\frac{67}{90} - \\frac{23 i}{30} + \\frac{7}{45} \\left(-1 - 3 i\\right)^{2}}{s + 1 + 3 i} + \\frac{\\frac{67}{90} + \\frac{7}{45} \\left(-1 + 3 i\\right)^{2} + \\frac{23 i}{30}}{s + 1 - 3 i} + \\frac{1}{s}$$"
      ],
      "text/plain": [
       "                        2                    2           \n",
       "67   23⋅ⅈ   7⋅(-1 - 3⋅ⅈ)    67   7⋅(-1 + 3⋅ⅈ)    23⋅ⅈ    \n",
       "── - ──── + ─────────────   ── + ───────────── + ────    \n",
       "90    30          45        90         45         30    1\n",
       "───────────────────────── + ───────────────────────── + ─\n",
       "       s + 1 + 3⋅ⅈ                 s + 1 - 3⋅ⅈ          s"
      ]
     },
     "execution_count": 13,
     "metadata": {},
     "output_type": "execute_result"
    }
   ],
   "source": [
    "sympy.apart(F, full=True).doit()"
   ]
  }
 ],
 "metadata": {
  "kernelspec": {
   "display_name": "Python 3",
   "language": "python",
   "name": "python3"
  },
  "language_info": {
   "codemirror_mode": {
    "name": "ipython",
    "version": 3
   },
   "file_extension": ".py",
   "mimetype": "text/x-python",
   "name": "python",
   "nbconvert_exporter": "python",
   "pygments_lexer": "ipython3",
   "version": "3.6.0"
  }
 },
 "nbformat": 4,
 "nbformat_minor": 2
}
