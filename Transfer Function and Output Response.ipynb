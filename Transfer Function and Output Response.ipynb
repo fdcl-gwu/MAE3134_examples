{
 "cells": [
  {
   "cell_type": "markdown",
   "metadata": {},
   "source": [
    "## Transfer functions and time response\n",
    "\n",
    "Here we'll define several transfer functions and investigate their responses to a variety of inputs.\n",
    "\n",
    "Consider the transfer function below which defines our system\n",
    "\n",
    "$$\n",
    "G(s) = \\frac{2s +25}{s^2 + 4s + 25}\n",
    "$$\n",
    "\n",
    "This second order transfer function defines our system, which we can also define within Python.\n",
    "\n",
    "This example will use the following:\n",
    "\n",
    "* [Matplotlib](https://matplotlib.org/) - used to create plots\n",
    "* [Scipy Signal](https://docs.scipy.org/doc/scipy/reference/signal.html) - Signal response and processing"
   ]
  },
  {
   "cell_type": "code",
   "execution_count": 1,
   "metadata": {},
   "outputs": [],
   "source": [
    "import numpy as np\n",
    "from scipy import signal\n",
    "import matplotlib.pyplot as plt"
   ]
  },
  {
   "cell_type": "markdown",
   "metadata": {},
   "source": [
    "Now we can define the transfer function using scipy\n",
    "\n",
    "This system representation allows us to use many of the functions within `scipy.signal`. \n",
    "\n",
    "There are many equivalent variations to define a continuous transfer function.\n",
    "\n",
    "https://docs.scipy.org/doc/scipy/reference/generated/scipy.signal.TransferFunction.html#scipy.signal.TransferFunction"
   ]
  },
  {
   "cell_type": "code",
   "execution_count": 2,
   "metadata": {
    "collapsed": true
   },
   "outputs": [],
   "source": [
    "num = [2, 25]\n",
    "den = [1, 4, 25]\n",
    "\n",
    "sys = signal.TransferFunction(num, den)"
   ]
  },
  {
   "cell_type": "markdown",
   "metadata": {},
   "source": [
    "## Step response\n",
    "\n",
    "Recall the step response of our system is defined as\n",
    "\n",
    "$$\n",
    "Y(s) = U(s) G(s)\n",
    "$$\n",
    "\n",
    "where $ U(s) $ is the unit step.\n",
    "\n",
    "Here we use Scipy to numerically output the response"
   ]
  },
  {
   "cell_type": "code",
   "execution_count": 3,
   "metadata": {
    "collapsed": true
   },
   "outputs": [],
   "source": [
    "time, response = signal.step(sys)"
   ]
  },
  {
   "cell_type": "markdown",
   "metadata": {},
   "source": [
    "Once we have the response we can plot it using `matplotlib`"
   ]
  },
  {
   "cell_type": "code",
   "execution_count": 4,
   "metadata": {},
   "outputs": [
    {
     "data": {
      "image/png": "[encoded data removed]",
      "text/plain": [
       "<matplotlib.figure.Figure at 0x7f607accc828>"
      ]
     },
     "metadata": {},
     "output_type": "display_data"
    }
   ],
   "source": [
    "plt.plot(time,response,label=\"Simulation\")\n",
    "plt.show()"
   ]
  }
 ],
 "metadata": {
  "kernelspec": {
   "display_name": "Python 3",
   "language": "python",
   "name": "python3"
  },
  "language_info": {
   "codemirror_mode": {
    "name": "ipython",
    "version": 3
   },
   "file_extension": ".py",
   "mimetype": "text/x-python",
   "name": "python",
   "nbconvert_exporter": "python",
   "pygments_lexer": "ipython3",
   "version": "3.6.2"
  }
 },
 "nbformat": 4,
 "nbformat_minor": 2
}
