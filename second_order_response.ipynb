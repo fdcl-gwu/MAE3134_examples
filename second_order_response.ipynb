{
 "cells": [
  {
   "cell_type": "markdown",
   "metadata": {},
   "source": [
    "We want to investigate the relationship between the poles of a second order system, the damping ratio and natural frequency, and the various performance specifications. \n",
    "\n",
    "Consider the general second order response for the transfer function:\n",
    "\n",
    "\\begin{align}\n",
    "    G(s) = \\frac{b}{s^2 + a s +b} = \\frac{\\omega_n^2}{s^2 + 2 \\zeta \\omega_n s + \\omega_n^2}\n",
    "\\end{align}\n",
    "\n",
    "subject to the the unit step input:\n",
    "\n",
    "\\begin{align}\n",
    "    R(s) = \\frac{1}{s}\n",
    "\\end{align}"
   ]
  },
  {
   "cell_type": "code",
   "execution_count": 1,
   "metadata": {
    "collapsed": true
   },
   "outputs": [],
   "source": [
    "%matplotlib inline\n",
    "import numpy as np\n",
    "from scipy import signal\n",
    "import matplotlib.pylab as plt\n",
    "\n",
    "from ipywidgets import interact\n",
    "import ipywidgets as widgets\n",
    "np.set_printoptions(2)"
   ]
  },
  {
   "cell_type": "markdown",
   "metadata": {},
   "source": [
    "Define some functions to compute useful parameters."
   ]
  },
  {
   "cell_type": "code",
   "execution_count": 2,
   "metadata": {
    "collapsed": false
   },
   "outputs": [],
   "source": [
    "def peak_time(zeta, wn):\n",
    "    if zeta < 1.0 and wn > 0.0:\n",
    "        Tp = np.pi/(wn*np.sqrt(1-zeta**2))\n",
    "    else:\n",
    "        Tp = 0\n",
    "    return Tp\n",
    "\n",
    "def percent_overshoot(zeta):\n",
    "    if zeta < 1.0:\n",
    "        OS = np.exp(-zeta*np.pi/(np.sqrt(1-zeta**2)))\n",
    "    else:\n",
    "        OS = 0\n",
    "    return OS\n",
    "\n",
    "def settling_time(zeta, wn):\n",
    "    if zeta > 0 and wn > 0:\n",
    "        Ts = 4/zeta/wn\n",
    "    else:\n",
    "        Ts = 0\n",
    "    return Ts\n",
    "\n",
    "def pltresp(zeta, wn):\n",
    "    num = wn**2\n",
    "    den = [1,2*zeta*wn,wn**2]\n",
    "    \n",
    "    poles = np.roots(den)\n",
    "    Tp = peak_time(zeta,wn)\n",
    "    OS = percent_overshoot(zeta)\n",
    "    Ts = settling_time(zeta,wn)\n",
    "    \n",
    "    sys = signal.TransferFunction(num,den)\n",
    "    t, resp = signal.step(sys)\n",
    "    \n",
    "    # plot the response and poles\n",
    "    fig, axarr=plt.subplots(1,2, figsize=(16,8))\n",
    "    axarr[0].plot(t,resp)\n",
    "    axarr[0].set_title('Response')\n",
    "    axarr[0].set_xlabel('Time (sec)')\n",
    "    axarr[0].set_ylabel('Response')\n",
    "    axarr[0].grid(True)\n",
    "    \n",
    "    # draw specifications on plot\n",
    "    if zeta < 1:\n",
    "        axarr[0].plot([Ts, Ts],[0,1.02],color='r')\n",
    "        axarr[0].text(Ts,0,'Ts', fontsize=16)\n",
    "\n",
    "        axarr[0].plot([Tp,Tp],[0,1+OS], color='r')\n",
    "        axarr[0].text(Tp,0,'Tp',fontsize=16)\n",
    "        axarr[0].text(Tp,1+OS,'OS',fontsize=16)\n",
    "\n",
    "    axarr[0].plot([axarr[0].get_xlim()[0],axarr[0].get_xlim()[1]],[1,1],color='k')\n",
    "    axarr[0].text(axarr[0].get_xlim()[1],1, 'SS',fontsize=16)\n",
    "    \n",
    "    # s plane\n",
    "    axarr[1].scatter(poles.real,poles.imag)\n",
    "    axarr[1].set_xlim([-8,2])\n",
    "    axarr[1].set_ylim([-4,4])\n",
    "    axarr[1].grid(True)\n",
    "    axarr[1].set_xlabel('Real')\n",
    "    axarr[1].set_ylabel('Imaginary')\n",
    "    axarr[1].axvline(0,0,1, color='k')\n",
    "    axarr[1].axhline(0,0,1, color='k')\n",
    "    axarr[1].text(poles.real[0],poles.imag[0],'{:.2f}'.format(poles[0]), fontsize=16)\n",
    "    axarr[1].text(poles.real[1],poles.imag[1],'{:.2f}'.format(poles[1]), fontsize=16)"
   ]
  },
  {
   "cell_type": "code",
   "execution_count": 3,
   "metadata": {
    "collapsed": false
   },
   "outputs": [
    {
     "name": "stderr",
     "output_type": "stream",
     "text": [
      "/home/shankar/anaconda3/lib/python3.6/site-packages/scipy/signal/filter_design.py:1092: BadCoefficients: Badly conditioned filter coefficients (numerator): the results may be meaningless\n",
      "  \"results may be meaningless\", BadCoefficients)\n"
     ]
    },
    {
     "data": {
      "image/png": "[encoded data removed]",
      "text/plain": [
       "<matplotlib.figure.Figure at 0x7f3c2fd969b0>"
      ]
     },
     "metadata": {},
     "output_type": "display_data"
    }
   ],
   "source": [
    "_ = interact(pltresp, zeta=(0,1.5,0.01), wn=(0.0,3,0.01))"
   ]
  }
 ],
 "metadata": {
  "kernelspec": {
   "display_name": "Python 3",
   "language": "python",
   "name": "python3"
  },
  "language_info": {
   "codemirror_mode": {
    "name": "ipython",
    "version": 3
   },
   "file_extension": ".py",
   "mimetype": "text/x-python",
   "name": "python",
   "nbconvert_exporter": "python",
   "pygments_lexer": "ipython3",
   "version": "3.6.0"
  },
  "widgets": {
   "state": {
    "42205749880f4a47bac5dbe6b18b59f6": {
     "views": [
      {
       "cell_index": 4
      }
     ]
    }
   },
   "version": "1.2.0"
  }
 },
 "nbformat": 4,
 "nbformat_minor": 2
}
