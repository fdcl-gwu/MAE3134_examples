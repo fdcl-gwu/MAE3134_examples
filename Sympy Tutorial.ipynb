{
 "cells": [
  {
   "cell_type": "markdown",
   "metadata": {},
   "source": [
    "This is a demo of symbolic computation using Python and Sympy."
   ]
  },
  {
   "cell_type": "code",
   "execution_count": 1,
   "metadata": {
    "collapsed": true
   },
   "outputs": [],
   "source": [
    "import numpy as np\n",
    "import sympy\n",
    "sympy.init_printing() # pretty printing"
   ]
  },
  {
   "cell_type": "markdown",
   "metadata": {},
   "source": [
    "We first try to solve a complicated problem\n",
    "\n",
    "Given:\n",
    "$$\n",
    "y = \\frac{x^2\\sqrt{3x-2}}{(x+1)^2}\n",
    "$$\n",
    "\n",
    "Find: $ \\dot{y} $"
   ]
  },
  {
   "cell_type": "markdown",
   "metadata": {},
   "source": [
    "Now we'll define symbolic variables"
   ]
  },
  {
   "cell_type": "code",
   "execution_count": 3,
   "metadata": {
    "collapsed": true
   },
   "outputs": [],
   "source": [
    "# must define symbolic variables before us\n",
    "x, y = sympy.symbols('x y', real=True)"
   ]
  },
  {
   "cell_type": "code",
   "execution_count": 6,
   "metadata": {},
   "outputs": [
    {
     "data": {
      "image/png": "[encoded data removed]",
      "text/latex": [
       "$$\\frac{x^{2} \\sqrt{3 x - 2}}{\\left(x + 1\\right)^{2}}$$"
      ],
      "text/plain": [
       " 2   _________\n",
       "x ⋅╲╱ 3⋅x - 2 \n",
       "──────────────\n",
       "          2   \n",
       "   (x + 1)    "
      ]
     },
     "execution_count": 6,
     "metadata": {},
     "output_type": "execute_result"
    }
   ],
   "source": [
    "y = x**2*sympy.sqrt(3*x-2)/(x+1)**2\n",
    "y # This causes it to output formatted nicely. "
   ]
  },
  {
   "cell_type": "code",
   "execution_count": 7,
   "metadata": {},
   "outputs": [
    {
     "data": {
      "image/png": "[encoded data removed]",
      "text/latex": [
       "$$\\log{\\left (\\frac{x^{2} \\sqrt{3 x - 2}}{\\left(x + 1\\right)^{2}} \\right )}$$"
      ],
      "text/plain": [
       "   ⎛ 2   _________⎞\n",
       "   ⎜x ⋅╲╱ 3⋅x - 2 ⎟\n",
       "log⎜──────────────⎟\n",
       "   ⎜          2   ⎟\n",
       "   ⎝   (x + 1)    ⎠"
      ]
     },
     "execution_count": 7,
     "metadata": {},
     "output_type": "execute_result"
    }
   ],
   "source": [
    "# Taking the natural log of this:\n",
    "a = sympy.ln(x**2*sympy.sqrt(3*x-2)/(x+1)**2)\n",
    "a # Keep in mind that the left hand side is ln(y)"
   ]
  },
  {
   "cell_type": "code",
   "execution_count": 8,
   "metadata": {},
   "outputs": [
    {
     "data": {
      "image/png": "[encoded data removed]",
      "text/latex": [
       "$$\\frac{\\left(x + 1\\right)^{2}}{x^{2} \\sqrt{3 x - 2}} \\left(\\frac{3 x^{2}}{2 \\left(x + 1\\right)^{2} \\sqrt{3 x - 2}} - \\frac{2 x^{2} \\sqrt{3 x - 2}}{\\left(x + 1\\right)^{3}} + \\frac{2 x \\sqrt{3 x - 2}}{\\left(x + 1\\right)^{2}}\\right)$$"
      ],
      "text/plain": [
       "         ⎛            2               2   _________         _________⎞\n",
       "       2 ⎜         3⋅x             2⋅x ⋅╲╱ 3⋅x - 2    2⋅x⋅╲╱ 3⋅x - 2 ⎟\n",
       "(x + 1) ⋅⎜────────────────────── - ──────────────── + ───────────────⎟\n",
       "         ⎜         2   _________              3                  2   ⎟\n",
       "         ⎝2⋅(x + 1) ⋅╲╱ 3⋅x - 2        (x + 1)            (x + 1)    ⎠\n",
       "──────────────────────────────────────────────────────────────────────\n",
       "                             2   _________                            \n",
       "                            x ⋅╲╱ 3⋅x - 2                             "
      ]
     },
     "execution_count": 8,
     "metadata": {},
     "output_type": "execute_result"
    }
   ],
   "source": [
    "# Taking its derivative with respect to x\n",
    "# So, we took the log of the right side, then the derivative\n",
    "sympy.diff(a,x)"
   ]
  },
  {
   "cell_type": "code",
   "execution_count": 10,
   "metadata": {},
   "outputs": [
    {
     "data": {
      "image/png": "[encoded data removed]",
      "text/latex": [
       "$$\\frac{3 x^{2} + 15 x - 8}{2 x \\left(3 x^{2} + x - 2\\right)}$$"
      ],
      "text/plain": [
       "    2             \n",
       " 3⋅x  + 15⋅x - 8  \n",
       "──────────────────\n",
       "    ⎛   2        ⎞\n",
       "2⋅x⋅⎝3⋅x  + x - 2⎠"
      ]
     },
     "execution_count": 10,
     "metadata": {},
     "output_type": "execute_result"
    }
   ],
   "source": [
    "# That is kind of messy. Let the computer simplify it\n",
    "sympy.simplify(sympy.diff(a,x))"
   ]
  },
  {
   "cell_type": "code",
   "execution_count": 11,
   "metadata": {},
   "outputs": [
    {
     "data": {
      "image/png": "[encoded data removed]",
      "text/latex": [
       "$$\\frac{3 x^{2} + 15 x - 8}{2 x \\left(3 x^{2} + x - 2\\right)}$$"
      ],
      "text/plain": [
       "    2             \n",
       " 3⋅x  + 15⋅x - 8  \n",
       "──────────────────\n",
       "    ⎛   2        ⎞\n",
       "2⋅x⋅⎝3⋅x  + x - 2⎠"
      ]
     },
     "execution_count": 11,
     "metadata": {},
     "output_type": "execute_result"
    }
   ],
   "source": [
    "# We could have done this all at once\n",
    "sympy.simplify(sympy.diff(sympy.ln(y),x))"
   ]
  },
  {
   "cell_type": "markdown",
   "metadata": {},
   "source": [
    "Lets transform the left hand side in teh same way\n",
    "\n",
    "$$ y $$\n",
    "\n",
    "Take the natural log\n",
    "\n",
    "$$ ln (y)$$\n",
    "\n",
    "Take the derivative\n",
    "\n",
    "$$ \\frac{1}{y}dy $$\n",
    "\n",
    "Now the complete equation is as follows\n",
    "\n",
    "$$\n",
    "\\frac{1}{y} dy = \\frac{3x^2 + 15x - 8}{2x(3x^2 + x -2)}\n",
    "$$\n",
    "\n",
    "The right hand side is given above, so to find the solution just multiply $ y $"
   ]
  },
  {
   "cell_type": "code",
   "execution_count": 12,
   "metadata": {},
   "outputs": [
    {
     "data": {
      "image/png": "[encoded data removed]",
      "text/latex": [
       "$$\\frac{x \\left(3 x^{2} + 15 x - 8\\right)}{2 \\sqrt{3 x - 2} \\left(x^{3} + 3 x^{2} + 3 x + 1\\right)}$$"
      ],
      "text/plain": [
       "          ⎛   2           ⎞        \n",
       "        x⋅⎝3⋅x  + 15⋅x - 8⎠        \n",
       "───────────────────────────────────\n",
       "    _________ ⎛ 3      2          ⎞\n",
       "2⋅╲╱ 3⋅x - 2 ⋅⎝x  + 3⋅x  + 3⋅x + 1⎠"
      ]
     },
     "execution_count": 12,
     "metadata": {},
     "output_type": "execute_result"
    }
   ],
   "source": [
    "sympy.simplify(sympy.diff(sympy.ln(y), x)*y)"
   ]
  },
  {
   "cell_type": "markdown",
   "metadata": {},
   "source": [
    "We can simplify this as well and just take the derivative directly"
   ]
  },
  {
   "cell_type": "code",
   "execution_count": 13,
   "metadata": {},
   "outputs": [
    {
     "data": {
      "image/png": "[encoded data removed]",
      "text/latex": [
       "$$\\frac{x \\left(3 x^{2} + 15 x - 8\\right)}{2 \\sqrt{3 x - 2} \\left(x^{3} + 3 x^{2} + 3 x + 1\\right)}$$"
      ],
      "text/plain": [
       "          ⎛   2           ⎞        \n",
       "        x⋅⎝3⋅x  + 15⋅x - 8⎠        \n",
       "───────────────────────────────────\n",
       "    _________ ⎛ 3      2          ⎞\n",
       "2⋅╲╱ 3⋅x - 2 ⋅⎝x  + 3⋅x  + 3⋅x + 1⎠"
      ]
     },
     "execution_count": 13,
     "metadata": {},
     "output_type": "execute_result"
    }
   ],
   "source": [
    "sympy.simplify(sympy.diff(y, x))"
   ]
  },
  {
   "cell_type": "markdown",
   "metadata": {},
   "source": [
    "This was a round about way to do something simple, but we can compare them directly to make sure"
   ]
  },
  {
   "cell_type": "code",
   "execution_count": 14,
   "metadata": {},
   "outputs": [
    {
     "data": {
      "text/plain": [
       "True"
      ]
     },
     "execution_count": 14,
     "metadata": {},
     "output_type": "execute_result"
    }
   ],
   "source": [
    "sympy.simplify(sympy.diff(y, x)) == sympy.simplify(sympy.diff(sympy.ln(y),x)*y)"
   ]
  },
  {
   "cell_type": "markdown",
   "metadata": {},
   "source": [
    "Or we can plot it"
   ]
  },
  {
   "cell_type": "code",
   "execution_count": 15,
   "metadata": {},
   "outputs": [
    {
     "data": {
      "image/png": "[encoded data removed]",
      "text/plain": [
       "<matplotlib.figure.Figure at 0x7ff403a93a20>"
      ]
     },
     "metadata": {},
     "output_type": "display_data"
    },
    {
     "data": {
      "text/plain": [
       "<sympy.plotting.plot.Plot at 0x7ff403a937f0>"
      ]
     },
     "execution_count": 15,
     "metadata": {},
     "output_type": "execute_result"
    }
   ],
   "source": [
    "sympy.plot((sympy.diff(y, x), (x, 0.2, 10)), (y, (x, 0.5, 10)))"
   ]
  },
  {
   "cell_type": "code",
   "execution_count": 17,
   "metadata": {
    "scrolled": true
   },
   "outputs": [
    {
     "data": {
      "image/png": "[encoded data removed]",
      "text/plain": [
       "<matplotlib.figure.Figure at 0x7ff40062eb70>"
      ]
     },
     "metadata": {},
     "output_type": "display_data"
    }
   ],
   "source": [
    "# To change colors\n",
    "# show = False delays the plot until we can set all of the parameters\n",
    "# legend turns on the legend and uses the labels we have later.\n",
    "p = sympy.plot((sympy.diff(y,x),(x,0.2,10)), (y, (x,0.5,10)), show = False, legend = True)\n",
    "p[0].line_color = 'blue'\n",
    "p[0].label = '$\\\\frac{dy}{dx}$'\n",
    "p[1].line_color = 'green'\n",
    "p[1].label = '$y$'\n",
    "p.show()"
   ]
  },
  {
   "cell_type": "markdown",
   "metadata": {},
   "source": [
    "Can make a substitution to evaluate the function"
   ]
  },
  {
   "cell_type": "code",
   "execution_count": 19,
   "metadata": {},
   "outputs": [
    {
     "data": {
      "image/png": "[encoded data removed]",
      "text/latex": [
       "$$\\frac{\\alpha^{2} \\sqrt{3 \\alpha - 2}}{\\left(\\alpha + 1\\right)^{2}}$$"
      ],
      "text/plain": [
       " 2   _________\n",
       "α ⋅╲╱ 3⋅α - 2 \n",
       "──────────────\n",
       "          2   \n",
       "   (α + 1)    "
      ]
     },
     "execution_count": 19,
     "metadata": {},
     "output_type": "execute_result"
    }
   ],
   "source": [
    "from sympy.abc import alpha\n",
    "y.subs(x,alpha)"
   ]
  }
 ],
 "metadata": {
  "kernelspec": {
   "display_name": "Python 3",
   "language": "python",
   "name": "python3"
  },
  "language_info": {
   "codemirror_mode": {
    "name": "ipython",
    "version": 3
   },
   "file_extension": ".py",
   "mimetype": "text/x-python",
   "name": "python",
   "nbconvert_exporter": "python",
   "pygments_lexer": "ipython3",
   "version": "3.5.3"
  }
 },
 "nbformat": 4,
 "nbformat_minor": 2
}
